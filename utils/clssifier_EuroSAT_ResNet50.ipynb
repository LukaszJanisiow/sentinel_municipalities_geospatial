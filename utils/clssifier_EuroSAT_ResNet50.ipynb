{
 "cells": [
  {
   "cell_type": "markdown",
   "metadata": {},
   "source": [
    "# Usage example\n"
   ]
  },
  {
   "cell_type": "code",
   "execution_count": 1,
   "metadata": {},
   "outputs": [],
   "source": [
    "import sys\n",
    "import os\n",
    "sys.path.append(os.path.abspath(\"..\"))\n",
    "from sentinel.sentinel_hub_processor import SentinelHubProcessor"
   ]
  },
  {
   "cell_type": "code",
   "execution_count": 2,
   "metadata": {},
   "outputs": [],
   "source": [
    "# Initialize the processor\n",
    "# https://shapps.dataspace.copernicus.eu/dashboard/#/\n",
    "processor = SentinelHubProcessor(\n",
    "    client_id=\"sh-d6996967-c43f-4088-bdbb-297f678b9b1a\",\n",
    "    client_secret=\"ibHT3tjfRDcpg7lkBhr3ZewF6OrDo2lx\",\n",
    "    shapefile_path=\"../data/shapefiles_poland/gminy.shp\"\n",
    ")"
   ]
  },
  {
   "cell_type": "markdown",
   "metadata": {},
   "source": [
    "# Pipeline for iterating over all images"
   ]
  },
  {
   "cell_type": "code",
   "execution_count": 3,
   "metadata": {},
   "outputs": [
    {
     "ename": "NameError",
     "evalue": "name 'gpd' is not defined",
     "output_type": "error",
     "traceback": [
      "\u001b[1;31m---------------------------------------------------------------------------\u001b[0m",
      "\u001b[1;31mNameError\u001b[0m                                 Traceback (most recent call last)",
      "Cell \u001b[1;32mIn[3], line 1\u001b[0m\n\u001b[1;32m----> 1\u001b[0m shapefile \u001b[38;5;241m=\u001b[39m \u001b[43mgpd\u001b[49m\u001b[38;5;241m.\u001b[39mread_file(\u001b[38;5;124mr\u001b[39m\u001b[38;5;124m\"\u001b[39m\u001b[38;5;124m../data/shapefiles_poland/gminy.shp\u001b[39m\u001b[38;5;124m\"\u001b[39m)\n\u001b[0;32m      3\u001b[0m \u001b[38;5;28;01mfor\u001b[39;00m i \u001b[38;5;129;01min\u001b[39;00m \u001b[38;5;28mrange\u001b[39m(\u001b[38;5;241m0\u001b[39m,\u001b[38;5;241m10\u001b[39m):\n\u001b[0;32m      4\u001b[0m     \u001b[38;5;28mprint\u001b[39m(shapefile\u001b[38;5;241m.\u001b[39mloc[i, \u001b[38;5;124m\"\u001b[39m\u001b[38;5;124mJPT_NAZWA_\u001b[39m\u001b[38;5;124m\"\u001b[39m])\n",
      "\u001b[1;31mNameError\u001b[0m: name 'gpd' is not defined"
     ]
    }
   ],
   "source": [
    "shapefile = gpd.read_file(r\"../data/shapefiles_poland/gminy.shp\")\n",
    "\n",
    "for i in range(0,10):\n",
    "    print(shapefile.loc[i, \"JPT_NAZWA_\"])\n",
    "    processor.define_area_of_interest(shapefile_index=i)\n",
    "    processor.split_aoi()\n",
    "    processor.download_data((\"2024-04-15\", \"2024-09-15\"))\n",
    "    mask = processor.create_masked_images(brightness = 4, resolution=10)\n",
    "    patches = processor.save_visible_patches()\n",
    "    patches = np.array(patches)\n",
    "    for i in range(len(mask)):\n",
    "        plot_image(np.array(mask[i]), factor=1 / 255, clip_range=(0, 1), size = 15)\n",
    "    print(\"First 10 images from the patch\")\n",
    "    count = 0\n",
    "    fig, axes = plt.subplots(1, 10, figsize=(20, 4)) \n",
    "    for i, image in enumerate(patches):\n",
    "        if count == 10: \n",
    "            break\n",
    "        axes[count].imshow(image)\n",
    "        axes[count].axis('off') \n",
    "        count += 1\n",
    "    plt.tight_layout()\n",
    "    plt.show()"
   ]
  }
 ],
 "metadata": {
  "kernelspec": {
   "display_name": "Python 3",
   "language": "python",
   "name": "python3"
  },
  "language_info": {
   "codemirror_mode": {
    "name": "ipython",
    "version": 3
   },
   "file_extension": ".py",
   "mimetype": "text/x-python",
   "name": "python",
   "nbconvert_exporter": "python",
   "pygments_lexer": "ipython3",
   "version": "3.11.9"
  }
 },
 "nbformat": 4,
 "nbformat_minor": 4
}
